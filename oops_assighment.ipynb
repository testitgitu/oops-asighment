{
  "nbformat": 4,
  "nbformat_minor": 0,
  "metadata": {
    "colab": {
      "provenance": []
    },
    "kernelspec": {
      "name": "python3",
      "display_name": "Python 3"
    },
    "language_info": {
      "name": "python"
    }
  },
  "cells": [
    {
      "cell_type": "markdown",
      "source": [
        "OOPS ASSIGHMENT\n",
        "\n",
        "Theoritical Questions..\n",
        "\n",
        "1.  What is Object-Oriented Programming (OOP)?\n",
        "   \n",
        "      Object-Oriented Programming (OOP) is a programming paradigm based on the concept of \"objects\", which are instances of classes. It is used to structure software in a way that models real-world entities by combining data and behavior in a single unit.\n",
        "\n",
        "2.   What is a class in OOP?\n",
        "        \n",
        "        In Object-Oriented Programming (OOP) concept, a class is a template for creating objects. It defines a set of attributes (variables/data) and methods (functions) that the created objects will have.\n",
        "\n",
        "3.   What is an object in OOP?\n",
        "   \n",
        "        In Object-Oriented Programming (OOP), an object is an instance of a class. It is a real-world entity that combines data (attributes) and behavior (methods) defined by its class.\n",
        "\n",
        "4.    What is the difference between abstraction and encapsulation?\n",
        "     \n",
        "       subject              abstraction             encapsulation\n",
        "\n",
        "\n",
        "1.     purpose           hides implementation\n",
        "                         \n",
        "                        complexity.\n",
        "      \n",
        "\n",
        "\n",
        "     \n",
        "\n",
        "\n",
        "\n",
        "\n",
        "5.    What are dunder methods in Python?\n",
        "  \n",
        "        Dunder methods in Python—short for \"double underscore\" methods—are special methods with names that begin and end with double underscores like( __init_.). They are also called magic methods or special methods.\n",
        "\n",
        "         They enable custom behavior for your classes, often related to Python's built-in operations like object creation, string representation, arithmetic operations, comparisons, and more.\n",
        "\n",
        "6.     Explain the concept of inheritance in OOP?\n",
        "  \n",
        "          Inheritance in Object-Oriented Programming (OOP) is a mechanism where a class (called the child or subclass) inherits attributes and methods from another class (called the parent or superclass). It allows for the reuse of existing code, promoting efficiency and reducing redundancy.\n",
        "\n",
        "         The child class gains access to all non-private properties and behaviors of the parent class. It can also add its own attributes or override parent methods to customize behavior. This supports the principle of **code reuse** and **extensibility**, making it easier to maintain and scale software.\n",
        "\n",
        "        For example, consider a parent class `Animal` with a method `eat()`. A child class `Dog` can inherit from `Animal` and gain the ability to use `eat()` while adding a unique method like `bark()`.\n",
        "\n",
        "        Python language support different types of inheritance, including **single**, **multiple**, **multilevel**, and **hierarchical** inheritance. In Python, this is implemented using simple syntax like `class Dog(Animal):`.\n",
        "\n",
        "        Inheritance reflects real-world relationships and helps structure programs in a logical, hierarchical manner. By enabling one class to build upon another, inheritance makes OOP more powerful and flexible, promoting better organization and reuse of code across complex systems.\n",
        "\n",
        "\n",
        "7.     What is polymorphism in OOP?\n",
        "        \n",
        "         **Polymorphism** in Object-Oriented Programming (OOP) is the ability of different classes to respond to the same method or function call in different ways. It means **\"many forms\"**, allowing one interface to be used for different underlying data types or classes. This concept enhances code flexibility, readability, and reusability.\n",
        "\n",
        "     There are two main types of polymorphism:\n",
        "\n",
        "     Compile-time polymorphism (also called static polymorphism), typically achieved through method overloading (having multiple methods with the same name but different parameters). This is common in languages like Java and C++, but not directly supported in Python.\n",
        "\n",
        "     Run-time polymorphism (also called dynamic polymorphism), achieved through method overriding. In this case, a subclass provides a specific implementation of a method that is already defined in its superclass.\n",
        "\n",
        "     For example, suppose a parent class `Animal` has a method `speak()`. Subclasses like `Dog` and `Cat` override this method to provide their own implementations. A function that takes an `Animal` object can call `speak()`, and the correct version will run depending on the object's actual type.\n",
        "\n",
        "     Polymorphism promotes cleaner and more manageable code, as it allows developers to write generic functions that work with different types of objects without knowing their specific class details.\n",
        "\n",
        "\n",
        "8.   How is encapsulation achieved in Python?\n",
        "\n",
        "      Encapsulation in Python is achieved by bundling data (attributes) and methods into a single class and controlling access to the internal state. This is done using access modifiers:\n",
        "\n",
        "      Public: Accessible from anywhere (e.g., self.name)\n",
        "\n",
        "      Protected: Prefixed with a single underscore (_name), suggesting internal use\n",
        "\n",
        "      Private: Prefixed with double underscores (__name), making it name-mangled and harder to access externally\n",
        "\n",
        "      To interact with private data safely, Python uses getter and setter methods. This protects data integrity and hides implementation details, making the code more secure and easier to maintain.\n",
        "\n",
        "\n",
        "9.   What is a constructor in Python?\n",
        "\n",
        "      In Python, a constructor is a special method used to initialize an object when it is created from a class. The constructor in Python is always named __init__, and it is automatically called when a new object (or instance) of the class is created.\n",
        "\n",
        "      The purpose of the constructor is to set up the initial state of the object by assigning values to its attributes. It helps ensure that the object is properly initialized before it is used.\n",
        "\n",
        "      The constructors first parameter is always self, which refers to the current instance of the class. Additional parameters can be included to accept values at the time of object creation.\n",
        "\n",
        "        class Person:\n",
        "        def __init__(self, name, age): # Constructor method\n",
        "      \n",
        "      self.name = name\n",
        "      \n",
        "      self.age = age\n",
        "\n",
        "        def introduce(self):\n",
        "       \n",
        "        print(f\"My name is {self.name} and I am {self.age} years old.\")\n",
        "\n",
        "        Creating objects using the constructor\n",
        "       \n",
        "       person1 = Person(\"Alice\", 25)\n",
        "       \n",
        "       person2 = Person(\"Bob\", 30)\n",
        "\n",
        "       person1.introduce()  # Output: My name is Alice and I am 25 years old.\n",
        "       person2.introduce()  # Output: My name is Bob and I am 30 years old.\n",
        "\n",
        "\n",
        "\n",
        "10.   What are class and static methods in Python?\n",
        "\n",
        "         In Python, class methods and static methods are two special types of methods defined inside a class, but they behave differently from regular instance methods.\n",
        "\n",
        "      A class method is declared using the classmethod decorator and takes cls as its first parameter, which refers to the class itself rather than the object instance. Class methods can access and modify class-level variables and are often used for tasks like tracking shared data or creating alternative constructors.\n",
        "\n",
        "       class Book:\n",
        "    \n",
        "      total_books = 0\n",
        "\n",
        "      def __init__(self, title):\n",
        "        \n",
        "        self.title = title\n",
        "        \n",
        "        Book.total_books += 1\n",
        "\n",
        "        @classmethod\n",
        "    \n",
        "        def get_total_books(cls):\n",
        "        \n",
        "        return cls.total_books\n",
        "\n",
        "        In conclusion, class methods operate on the class, static methods are independent utility functions, and both are used to improve code organization and functionality without relying on object instances.\n",
        "\n",
        "11.    What is method overloading in Python?\n",
        "         \n",
        "         Method overloading is the ability to define multiple methods in the same class with the same name but different parameters (number or type). While many programming languages like Java support true method overloading, Python does not support it in the traditional sense.\n",
        "\n",
        "        In Python, if you define multiple methods with the same name, only the last one will be recognized—the previous ones will be overridden.\n",
        "\n",
        "12.   What is method overriding in OOP?\n",
        "        Method overriding is a core concept in Object-Oriented Programming (OOP) that allows a child class to provide a specific implementation of a method that is already defined in its parent class. The overridden method in the child class must have the same name, parameters, and return type as in the parent class.\n",
        "\n",
        "       This feature is useful when the child class needs to change or extend the behavior of a method inherited from the parent class. It supports the concept of runtime polymorphism, meaning the version of the method that gets executed is determined at runtime based on the type of the object.\n",
        "\n",
        "13.   What is a property decorator in Python?\n",
        "      \n",
        "      The property decorator in Python is used to define getter methods that allow accessing methods like attributes. It is a built-in decorator that turns a method into a read-only property, allowing controlled access to private or computed values in a class.\n",
        "\n",
        " 14.   Why is polymorphism important in OOP?\n",
        "\n",
        "          Polymorphism improves code reusability by allowing you to write general-purpose code that works with different object types. It also makes code more flexible and extensible, since new classes can be added without modifying existing functions that rely on a common interface.\n",
        "\n",
        "           class Animal:\n",
        "          \n",
        "          def speak(self):\n",
        "           \n",
        "           pass\n",
        "\n",
        "         class Dog(Animal):\n",
        "         \n",
        "         def speak(self):\n",
        "         \n",
        "         return \"Bark\"\n",
        "\n",
        "        class Cat(Animal):\n",
        "        \n",
        "        def speak(self):\n",
        "        \n",
        "        return \"Meow\"\n",
        "\n",
        "       def make_sound(animal):\n",
        "    \n",
        "       print(animal.speak())\n",
        "\n",
        "       make_sound(Dog())  # Output: Bark\n",
        "       make_sound(Cat())  # Output: Meow\n",
        "       In this example, make_sound() works for any subclass of Animal without needing to know the specific type, demonstrating polymorphism in action.\n",
        "\n",
        "       in conclusion, Polymorphism makes code cleaner, more modular, and adaptable to change.\n",
        "\n",
        "\n",
        "15.    What is an abstract class in Python?\n",
        "     \n",
        "        An abstract class in Python is a class that cannot be instantiated and is used to define a common interface for its subclasses. It is created using the ABC class and the @abstractmethod decorator from the abc module. Abstract classes contain one or more methods without implementation, forcing child classes to implement them. This ensures consistency and structure in large applications.\n",
        "\n",
        "         from abc import ABC, abstractmethod\n",
        "\n",
        "         class Animal(ABC):\n",
        "    \n",
        "          @abstractmethod\n",
        "    \n",
        "          def speak(self):\n",
        "             \n",
        "        pass\n",
        "\n",
        "Subclasses must implement all abstract methods, or they will also be treated as abstract. This helps enforce a standard method structure across related classes.\n",
        "\n",
        "16.  What are the advantages of OOP?\n",
        "     \n",
        "      Object-Oriented Programming (OOP) is a programming paradigm based on the concept of \"objects,\" which contain both data (attributes) and behavior (methods). It is widely used due to its powerful features and ability to manage complex software systems effectively. OOP offers several key advantages that make it ideal for both small and large-scale applications.\n",
        "\n",
        "      One major advantage is modularity. In OOP, code is organized into classes and objects, each representing a specific part of the application. This modular design makes it easier to understand, test, and maintain code since different components are separated logically.\n",
        "\n",
        "      Another important benefit is reusability. Through the use of inheritance, developers can create new classes that reuse code from existing ones. This reduces redundancy and promotes cleaner, more efficient code.\n",
        "\n",
        "       Encapsulation is another core advantage of OOP. It involves hiding the internal details of objects and only exposing necessary parts through public methods. This protects data integrity and helps prevent accidental interference or misuse.\n",
        "\n",
        "       Polymorphism allows the same interface or method to behave differently based on the object it is acting upon. This makes the code more flexible and easier to extend without modifying existing functionality.\n",
        "\n",
        "      Abstraction is used to hide complex implementation details and only show essential features, helping developers focus on high-level logic rather than low-level complexity.\n",
        "\n",
        "     Additionally, OOP enhances maintainability and scalability. As applications grow, OOP's structure allows changes to be made easily without breaking other parts of the codebase. It also supports collaborative development by allowing multiple developers to work on different classes or modules independently.\n",
        "\n",
        "      In summary, OOP provides a clear structure for programs, improves code reusability and security, and makes software easier to develop, maintain, and scale. These benefits make it a preferred approach in modern software engineering.\n",
        "\n",
        "17.   What is the difference between a class variable and an instance variable?\n",
        "\n",
        "       A class variable is shared across all instances of a class. It is defined within the class but outside any instance methods. Changing its value affects every instance of that class. In contrast, an instance variable is unique to each object and is defined inside methods, usually the constructor, using self (in Python). Changes to an instance variable only affect that particular object. Class variables are used for values common to all objects, while instance variables store data specific to each object. For example, all dogs might share the same species (class variable), but each has its own name (instance variable).\n",
        "\n",
        "18.   What is multiple inheritance in Python\n",
        "\n",
        "         Multiple inheritance in Python is a feature that allows a class to inherit attributes and methods from more than one parent class. This means a child class can combine the functionality of multiple base classes.\n",
        "\n",
        "         forr example,\n",
        "\n",
        "         class A:\n",
        "       \n",
        "       def method_a(self):\n",
        "        \n",
        "        print(\"Method from class A\")\n",
        "\n",
        "       class B:\n",
        "      \n",
        "      def method_b(self):\n",
        "        \n",
        "        print(\"Method from class B\")\n",
        "\n",
        "       class C(A, B):\n",
        "        \n",
        "        pass\n",
        "\n",
        "       obj = C()\n",
        "\n",
        "      obj.method_a()  # Inherited from A\n",
        "\n",
        "      obj.method_b()  # Inherited from B   \n",
        "\n",
        "\n",
        "19. Explain the purpose of ‘’__str__’ and ‘__repr__’ ‘ methods in Python?\n",
        "\n",
        "      In Python, the __str__ and __repr__ methods are special functions used to define how an object is represented as a string.\n",
        "\n",
        "      The __str__ method is meant to return a user-friendly string representation of an object. It is called when you use the print() function or the str() function on an object. The goal of __str__ is to provide a readable and meaningful output for end users, often summarizing the object’s data in a clear format.\n",
        "      \n",
        "      for example,\n",
        "       \n",
        "       class Person:\n",
        "    \n",
        "       def __str__(self):\n",
        "        \n",
        "      return \"Person object representing a human being\"\n",
        "\n",
        "      on the other hand,\n",
        "\n",
        "       __repr__ method is intended to return a developer-friendly string representation. It is called when using repr() or inspecting objects in an interactive environment. The string returned by __repr__ should, ideally, be unambiguous and, if possible, a valid Python expression that can recreate the object.\n",
        "\n",
        "       example,\n",
        "\n",
        "       class Person:\n",
        "    \n",
        "      def __repr__(self):\n",
        "        \n",
        "      return \"Person(name='Alice', age=30)\"\n",
        "\n",
        "      If both __str__ and __repr__ are defined, Python uses __str__ when printing and falls back to __repr__ otherwise. If only __repr__ is defined, it will be used for both purposes. These methods improve readability and debugging in Python programs.\n",
        "\n",
        " 20.  What is the significance of the ‘super()’ function in Python?\n",
        "\n",
        "        The `super()` function in Python is a built-in function used to call a method from a parent or superclass. It plays a crucial role in object-oriented programming, especially in **inheritance**. When a class inherits from a parent class, `super()` allows you to access methods and properties of the parent class without directly naming it. This helps in writing more maintainable and flexible code.\n",
        "\n",
        "        One major benefit of `super()` is that it supports **multiple inheritance** by following Python’s **Method Resolution Order (MRO)**. This ensures that the correct method is called from the correct parent class, avoiding ambiguity or duplication.\n",
        "\n",
        "         For example, when overriding a method in a subclass but still wanting to include the original behavior from the parent, you can use `super()`:\n",
        "\n",
        "         class Animal:\n",
        "    \n",
        "        def speak(self):\n",
        "        \n",
        "          print(\"Animal speaks\")\n",
        "\n",
        "         class Dog(Animal):\n",
        "    \n",
        "         def speak(self):\n",
        "      \n",
        "       super().speak()\n",
        "        \n",
        "        print(\"Dog barks\")\n",
        "\n",
        "         When `Dog().speak()` is called, it outputs:\n",
        "\n",
        "               Animal speaks\n",
        "                 \n",
        "                 Dog barks\n",
        "\n",
        "In this case, `super().speak()` calls the parent class’s version of the method. Using `super()` makes your code cleaner, easier to update, and better suited for complex inheritance structures.\n",
        "\n",
        "21.   What is the significance of the __del__ method in Python?\n",
        "\n",
        "        The __del__ method in Python is a special method called a destructor. It is automatically invoked when an object is about to be destroyed, typically when its reference count reaches zero. Its main purpose is to perform **cleanup tasks, such as closing files or releasing network or database connections. However, relying on __del__ is discouraged because its execution timing is unpredictable due to Python's garbage collection. In some cases, especially with circular references, it might not be called at all. Instead, it is recommended to use context managers (with statements) for safe and reliable resource management.\n",
        "\n",
        "22.   What is the difference between @staticmethod and @classmethod in Python?\n",
        "\n",
        "        In Python, @staticmethod and @classmethod are decorators used to define methods that aren't regular instance methods.\n",
        "\n",
        "         staticmethod defines a method that does not access class or instance data. It behaves like a regular function but belongs to the class's namespace.\n",
        "\n",
        "         classmethod defines a method that receives the class itself as the first argument (cls). It can access or modify class-level data and is often used for factory methods.\n",
        "\n",
        "           Example:\n",
        "\n",
        "          staticmethod\n",
        "\n",
        "          def greet():\n",
        "           \n",
        "             pass\n",
        "\n",
        "           classmethod\n",
        "\n",
        "           def from_string(cls, data):\n",
        "           \n",
        "             pass\n",
        "\n",
        "23.   How does polymorphism work in Python with inheritance?\n",
        "\n",
        "       Polymorphism in Python allows objects of different classes to be treated as objects of a common superclass. With inheritance, polymorphism works by overriding methods in child classes. When a method is called on a superclass reference, Python dynamically determines the appropriate method to execute based on the actual object type at runtime. This enables flexible and reusable code.\n",
        "\n",
        "24.    What is method chaining in Python OOP?\n",
        "\n",
        "        Method chaining in Python OOP is a technique where multiple methods are called on the same object in a single line. It works by having each method return self, the instance of the class, allowing continued access to other methods. This creates a fluent and readable interface, often used in configuration or builder patterns.\n",
        "        \n",
        "        example\n",
        "\n",
        "         class Person:\n",
        "        \n",
        "        def set_name(self, name):\n",
        "        \n",
        "        self.name = name\n",
        "        \n",
        "        return self\n",
        "    \n",
        "        def set_age(self, age):\n",
        "        \n",
        "        self.age = age\n",
        "        \n",
        "        return self\n",
        "\n",
        "25.  What is the purpose of the __call__ method in Python?\n",
        "\n",
        "       The __call__ method in Python allows an instance of a class to be called like a function. By defining __call__, you can make objects behave like callable functions. This is useful for scenarios where an object needs to maintain state and still be invoked directly. For example, in decorators or stateful computations, __call__ enables flexible and clean syntax. It can accept any number of arguments using args and kwargs. When an instance with __call__ defined is followed by parentheses, Python executes the __call__ method, making it a powerful tool for designing intuitive and reusable code.\n",
        "\n",
        "\n",
        "\n",
        "\n",
        "\n",
        "       \n",
        "\n",
        "        \n",
        "\n",
        "\n",
        "\n",
        "       \n",
        "\n",
        "\n",
        "             \n",
        "\n",
        "         \n",
        "        \n",
        "\n",
        "\n",
        "        \n",
        "     \n",
        "\n",
        "      \n",
        "\n",
        "\n",
        "\n",
        "\n",
        "\n",
        "\n",
        "\n",
        "\n",
        "      \n",
        "\n",
        "\n",
        "\n",
        "\n",
        "\n",
        "\n",
        "\n",
        "\n",
        "\n",
        "\n",
        "\n",
        "\n",
        "      \n",
        "     \n",
        "\n",
        "\n",
        "       \n",
        "        \n",
        "\n",
        "\n",
        "\n",
        "\n",
        "\n",
        "\n",
        "\n",
        "\n",
        "\n",
        "\n",
        "       \n",
        "\n",
        "\n",
        "\n",
        "\n",
        "\n",
        "        \n",
        "\n",
        "\n",
        "\n",
        "\n"
      ],
      "metadata": {
        "id": "sTHOuCUnQquf"
      }
    },
    {
      "cell_type": "markdown",
      "source": [
        "practical question.....\n"
      ],
      "metadata": {
        "id": "PJkrVwzt_KRp"
      }
    },
    {
      "cell_type": "code",
      "source": [
        "# Create a parent class Animal with a method speak() that prints a generic message. Create a child class Dog\n",
        "# that overrides the speak() method to print \"Bark!\".\n",
        "\n",
        "class Animal:\n",
        "    def speak(self):\n",
        "        print(\"This animal makes a sound.\")\n",
        "\n",
        "class Dog(Animal):\n",
        "    def speak(self):\n",
        "        print(\"Bark!\")\n",
        "\n",
        "if __name__ == \"__main__\":\n",
        "    generic_animal = Animal()\n",
        "    dog = Dog()\n",
        "\n",
        "    print(\"Animal says:\")\n",
        "    generic_animal.speak()\n",
        "\n",
        "    print(\"Dog says:\")\n",
        "    dog.speak()\n",
        "\n",
        "\n",
        "\n"
      ],
      "metadata": {
        "colab": {
          "base_uri": "https://localhost:8080/"
        },
        "id": "AIp3u4r3_HZr",
        "outputId": "5731773b-7cba-49bd-df72-e47cc2f407be"
      },
      "execution_count": 1,
      "outputs": [
        {
          "output_type": "stream",
          "name": "stdout",
          "text": [
            "Animal says:\n",
            "This animal makes a sound.\n",
            "Dog says:\n",
            "Bark!\n"
          ]
        }
      ]
    },
    {
      "cell_type": "code",
      "execution_count": 2,
      "metadata": {
        "id": "UciHO_YqQpLt",
        "colab": {
          "base_uri": "https://localhost:8080/"
        },
        "outputId": "a10d2090-2631-401e-df14-8a0a04f5a21a"
      },
      "outputs": [
        {
          "output_type": "stream",
          "name": "stdout",
          "text": [
            "Area of the circle: 78.54\n",
            "Area of the rectangle: 24.00\n"
          ]
        }
      ],
      "source": [
        "# Write a program to create an abstract class Shape with a method area(). Derive classes Circle and Rectangle\n",
        "# from it and implement the area() method in both\n",
        "from abc import ABC, abstractmethod\n",
        "import math\n",
        "\n",
        "class Shape(ABC):\n",
        "    @abstractmethod\n",
        "    def area(self):\n",
        "        pass\n",
        "\n",
        "class Circle(Shape):\n",
        "    def __init__(self, radius):\n",
        "        self.radius = radius\n",
        "\n",
        "    def area(self):\n",
        "        return math.pi * (self.radius ** 2)\n",
        "\n",
        "class Rectangle(Shape):\n",
        "    def __init__(self, width, height):\n",
        "        self.width = width\n",
        "        self.height = height\n",
        "\n",
        "    def area(self):\n",
        "        return self.width * self.height\n",
        "\n",
        "if __name__ == \"__main__\":\n",
        "    # Create instances of Circle and Rectangle\n",
        "    circle = Circle(5)\n",
        "    rectangle = Rectangle(4, 6)\n",
        "\n",
        "    # Print the area of the circle and rectangle\n",
        "    print(f\"Area of the circle: {circle.area():.2f}\")\n",
        "    print(f\"Area of the rectangle: {rectangle.area():.2f}\")\n"
      ]
    },
    {
      "cell_type": "code",
      "source": [
        "#  3. Implement a multi-level inheritance scenario where a class Vehicle has an attribute type. Derive a class Car and further derive a class ElectricCar that adds a battery attribute.\n",
        "class Vehicle:\n",
        "    def __init__(self, vehicle_type):\n",
        "        self.type = vehicle_type\n",
        "\n",
        "class Car(Vehicle):\n",
        "    def __init__(self, vehicle_type, brand):\n",
        "        super().__init__(vehicle_type)\n",
        "        self.brand = brand\n",
        "\n",
        "class ElectricCar(Car):\n",
        "    def __init__(self, vehicle_type, brand, battery_capacity):\n",
        "        super().__init__(vehicle_type, brand)\n",
        "        self.battery = battery_capacity\n",
        "\n",
        "if __name__ == \"__main__\":\n",
        "    # Create an ElectricCar instance\n",
        "    my_electric_car = ElectricCar(\"Sedan\", \"Tesla\", \"100 kWh\")\n",
        "\n",
        "    print(f\"Vehicle type: {my_electric_car.type}\")\n",
        "    print(f\"Brand: {my_electric_car.brand}\")\n",
        "    print(f\"Battery capacity: {my_electric_car.battery}\")\n",
        "\n"
      ],
      "metadata": {
        "colab": {
          "base_uri": "https://localhost:8080/"
        },
        "id": "2dYhrxpaAybq",
        "outputId": "2243883b-d0ac-46c8-f32c-4ff634f8a794"
      },
      "execution_count": 3,
      "outputs": [
        {
          "output_type": "stream",
          "name": "stdout",
          "text": [
            "Vehicle type: Sedan\n",
            "Brand: Tesla\n",
            "Battery capacity: 100 kWh\n"
          ]
        }
      ]
    },
    {
      "cell_type": "code",
      "source": [
        "#  4. Demonstrate polymorphism by creating a base class Bird with a method fly() Sparrow and Penguin that override the fly() method.\n",
        "\n",
        "class Bird:\n",
        "    def fly(self):\n",
        "        return \"This bird can fly.\"\n",
        "\n",
        "class Sparrow(Bird):\n",
        "    def fly(self):\n",
        "        return \"The sparrow flies high in the sky.\"\n",
        "\n",
        "class Penguin(Bird):\n",
        "    def fly(self):\n",
        "        return \"The penguin cannot fly.\"\n",
        "\n",
        "# Creating instances of Sparrow and Penguin\n",
        "sparrow = Sparrow()\n",
        "penguin = Penguin()\n",
        "\n",
        "# Demonstrating polymorphism\n",
        "print(sparrow.fly())  # Output: The sparrow flies high in the sky.\n",
        "print(penguin.fly())  # Output: The penguin cannot fly.\n",
        "\n"
      ],
      "metadata": {
        "colab": {
          "base_uri": "https://localhost:8080/"
        },
        "id": "fE_n9LpCAzK7",
        "outputId": "48c5e45a-8515-4606-c554-3e6e52f746d4"
      },
      "execution_count": 4,
      "outputs": [
        {
          "output_type": "stream",
          "name": "stdout",
          "text": [
            "The sparrow flies high in the sky.\n",
            "The penguin cannot fly.\n"
          ]
        }
      ]
    },
    {
      "cell_type": "code",
      "source": [
        "# 5. Write a program to demonstrate encapsulation by creating a class BankAccount with private attributes balance and methods to deposit, withdraw, and check balance.\n",
        "class BankAccount:\n",
        "    def __init__(self):\n",
        "        self.__balance = 0  # Private attribute\n",
        "\n",
        "    def deposit(self, amount):\n",
        "        if amount > 0:\n",
        "            self.__balance += amount\n",
        "            print(f\"Deposited: ${amount:.2f}\")\n",
        "        else:\n",
        "            print(\"Deposit amount must be positive.\")\n",
        "\n",
        "    def withdraw(self, amount):\n",
        "        if 0 < amount <= self.__balance:\n",
        "            self.__balance -= amount\n",
        "            print(f\"Withdrew: ${amount:.2f}\")\n",
        "        else:\n",
        "            print(\"Insufficient funds or invalid withdrawal amount.\")\n",
        "\n",
        "    def check_balance(self):\n",
        "        return f\"Current balance: ${self.__balance:.2f}\"\n",
        "\n",
        "# Creating an instance of BankAccount\n",
        "account = BankAccount()\n",
        "\n",
        "# Demonstrating encapsulation\n",
        "account.deposit(100)          # Deposited: $100.00\n",
        "print(account.check_balance()) # Current balance: $100.00\n",
        "\n",
        "account.withdraw(30)          # Withdrew: $30.00\n",
        "print(account.check_balance()) # Current balance: $70.00\n",
        "\n",
        "account.withdraw(100)         # Insufficient funds or invalid withdrawal amount.\n",
        "\n"
      ],
      "metadata": {
        "colab": {
          "base_uri": "https://localhost:8080/"
        },
        "id": "-3k3-aT-AzTt",
        "outputId": "8c2c1cff-44fd-4020-f985-8483119c8d6a"
      },
      "execution_count": 5,
      "outputs": [
        {
          "output_type": "stream",
          "name": "stdout",
          "text": [
            "Deposited: $100.00\n",
            "Current balance: $100.00\n",
            "Withdrew: $30.00\n",
            "Current balance: $70.00\n",
            "Insufficient funds or invalid withdrawal amount.\n"
          ]
        }
      ]
    },
    {
      "cell_type": "code",
      "source": [
        "# 6. Demonstrate runtime polymorphism using a method play() in a base class Instrument. Derive classes Guitar and Piano that implement their own version of play().\n",
        "class Instrument:\n",
        "    def __init__(self):\n",
        "        pass\n",
        "    def play(self):\n",
        "        raise NotImplementedError(\"Subclasses must implement this method.\")\n",
        "\n",
        "class Guitar(Instrument):\n",
        "    def play(self):\n",
        "        return \"Strumming the guitar.\"\n",
        "\n",
        "class Piano(Instrument):\n",
        "    def play(self):\n",
        "        return \"Playing the piano.\"\n",
        "\n",
        "# Function to demonstrate runtime polymorphism\n",
        "def perform(instrument):\n",
        "    print(instrument.play())\n",
        "\n",
        "# Creating instances of Guitar and Piano\n",
        "guitar = Guitar()\n",
        "piano = Piano()\n",
        "\n",
        "# Demonstrating runtime polymorphism\n",
        "perform(guitar)\n",
        "perform(piano)\n",
        "\n"
      ],
      "metadata": {
        "colab": {
          "base_uri": "https://localhost:8080/"
        },
        "id": "Woek97OiAzdv",
        "outputId": "b77f0e19-fe8e-464d-93b1-8ebaf801f411"
      },
      "execution_count": 14,
      "outputs": [
        {
          "output_type": "stream",
          "name": "stdout",
          "text": [
            "Strumming the guitar.\n",
            "Playing the piano.\n"
          ]
        }
      ]
    },
    {
      "cell_type": "code",
      "source": [
        "# 7. Create a class MathOperations with a class method add_numbers() to add two numbers and a static method subtract_numbers() to subtract two numbers.\n",
        "\n",
        "class MathOperations:\n",
        "    @classmethod\n",
        "    def add_numbers(cls, a, b):\n",
        "        return a + b\n",
        "\n",
        "    @staticmethod\n",
        "    def subtract_numbers(a, b):\n",
        "        return a - b\n",
        "\n",
        "# Demonstrating the usage of class method and static method\n",
        "result_addition = MathOperations.add_numbers(10, 5)\n",
        "result_subtraction = MathOperations.subtract_numbers(10, 5)\n",
        "\n",
        "print(f\"Addition Result: {result_addition}\")\n",
        "print(f\"Subtraction Result: {result_subtraction}\")\n"
      ],
      "metadata": {
        "colab": {
          "base_uri": "https://localhost:8080/"
        },
        "id": "AsROSoASAzno",
        "outputId": "2b77763e-69d0-4a1f-fb86-4454b1dddea9"
      },
      "execution_count": 15,
      "outputs": [
        {
          "output_type": "stream",
          "name": "stdout",
          "text": [
            "Addition Result: 15\n",
            "Subtraction Result: 5\n"
          ]
        }
      ]
    },
    {
      "cell_type": "code",
      "source": [
        "#  8. Implement a class Person with a class method to count the total number of persons created.\n",
        "class Person:\n",
        "    # Class variable to keep track of the number of Person instances\n",
        "    _count = 0\n",
        "\n",
        "    def __init__(self, name):\n",
        "        self.name = name\n",
        "        Person._count += 1  # Increment the count whenever a new instance is created\n",
        "\n",
        "    @classmethod\n",
        "    def get_person_count(cls):\n",
        "        return cls._count\n",
        "\n",
        "# Creating instances of Person\n",
        "person1 = Person(\"Alice\")\n",
        "person2 = Person(\"Bob\")\n",
        "person3 = Person(\"Charlie\")\n",
        "\n",
        "# Getting the total number of persons created\n",
        "total_persons = Person.get_person_count()\n",
        "print(f\"Total number of persons created: {total_persons}\")\n"
      ],
      "metadata": {
        "colab": {
          "base_uri": "https://localhost:8080/"
        },
        "id": "wHoPYOBCAzwx",
        "outputId": "7c38cf2a-4105-4b54-da3b-4969903375b2"
      },
      "execution_count": 16,
      "outputs": [
        {
          "output_type": "stream",
          "name": "stdout",
          "text": [
            "Total number of persons created: 3\n"
          ]
        }
      ]
    },
    {
      "cell_type": "code",
      "source": [
        "# 9. Write a class Fraction with attributes numerator and denominator. Override the str method to display the fraction as \"numerator/denominator\".\n",
        "class Fraction:\n",
        "    def __init__(self, numerator, denominator):\n",
        "        if denominator == 0:\n",
        "            raise ValueError(\"Denominator cannot be zero.\")\n",
        "        self.numerator = numerator\n",
        "        self.denominator = denominator\n",
        "\n",
        "    def __str__(self):\n",
        "        return f\"{self.numerator}/{self.denominator}\"\n",
        "\n",
        "# Creating an instance of Fraction\n",
        "fraction = Fraction(3, 4)\n",
        "\n",
        "# Displaying the fraction\n",
        "print(fraction)\n",
        "\n"
      ],
      "metadata": {
        "colab": {
          "base_uri": "https://localhost:8080/"
        },
        "id": "R2Wembr9IwCK",
        "outputId": "07523310-99a1-4d3b-ef3f-00234c3d4b93"
      },
      "execution_count": 17,
      "outputs": [
        {
          "output_type": "stream",
          "name": "stdout",
          "text": [
            "3/4\n"
          ]
        }
      ]
    },
    {
      "cell_type": "code",
      "source": [
        "#  10. Demonstrate operator overloading by creating a class Vector and overriding the add method to add two vectors\n",
        "class Vector:\n",
        "    def __init__(self, x, y):\n",
        "        self.x = x\n",
        "        self.y = y\n",
        "\n",
        "    # Overload the + operator\n",
        "    def __add__(self, other):\n",
        "        if isinstance(other, Vector):\n",
        "            return Vector(self.x + other.x, self.y + other.y)\n",
        "        return NotImplemented\n",
        "\n",
        "    # String representation for printing\n",
        "    def __repr__(self):\n",
        "        return f\"Vector({self.x}, {self.y})\"\n",
        "\n",
        "# Create two Vector instances\n",
        "v1 = Vector(2, 3)\n",
        "v2 = Vector(4, 5)\n",
        "\n",
        "# Add vectors using the overloaded + operator\n",
        "v3 = v1 + v2\n",
        "\n",
        "# Print the result\n",
        "print(v3)  # Output: Vector(6, 8)\n"
      ],
      "metadata": {
        "colab": {
          "base_uri": "https://localhost:8080/"
        },
        "id": "KQGL_DxwIwgr",
        "outputId": "14223e3a-454b-494c-d74e-b3cadcfaee8f"
      },
      "execution_count": 18,
      "outputs": [
        {
          "output_type": "stream",
          "name": "stdout",
          "text": [
            "Vector(6, 8)\n"
          ]
        }
      ]
    },
    {
      "cell_type": "code",
      "source": [
        "#  11. Create a class Person with attributes name and age. Add a method greet() that prints \"Hello, my name is {name} and I am {age} years old.\"\n",
        "\n",
        "class Person:\n",
        "    def __init__(self, name, age):\n",
        "        self.name = name\n",
        "        self.age = age\n",
        "\n",
        "    def greet(self):\n",
        "        print(f\"Hello, my name is {self.name} and I am {self.age} years old.\")\n",
        "\n",
        "person1 = Person(\"Alice\", 30)\n",
        "person1.greet()\n"
      ],
      "metadata": {
        "colab": {
          "base_uri": "https://localhost:8080/"
        },
        "id": "YPwvuVPcIwkI",
        "outputId": "235b2b73-3bc6-4f5e-a52f-9b4bc0a2a3b4"
      },
      "execution_count": 19,
      "outputs": [
        {
          "output_type": "stream",
          "name": "stdout",
          "text": [
            "Hello, my name is Alice and I am 30 years old.\n"
          ]
        }
      ]
    },
    {
      "cell_type": "code",
      "source": [
        "#  12. Implement a class Student with attributes name and grades. Create a method average_grade() to compute the average of the grades.\n",
        "\n",
        "class Student:\n",
        "    def __init__(self, name, grades):\n",
        "        self.name = name\n",
        "        self.grades = grades  # grades should be a list of numbers\n",
        "\n",
        "    def average_grade(self):\n",
        "        if not self.grades:\n",
        "            return 0  # Avoid division by zero\n",
        "        return sum(self.grades) / len(self.grades)\n",
        "\n",
        "student1 = Student(\"John\", [85, 90, 78, 92])\n",
        "print(f\"{student1.name}'s average grade is: {student1.average_grade():.2f}\")\n"
      ],
      "metadata": {
        "colab": {
          "base_uri": "https://localhost:8080/"
        },
        "id": "LomSbffkIwmV",
        "outputId": "583fb020-5d3c-4acb-d3bd-d0ffb586bc11"
      },
      "execution_count": 20,
      "outputs": [
        {
          "output_type": "stream",
          "name": "stdout",
          "text": [
            "John's average grade is: 86.25\n"
          ]
        }
      ]
    },
    {
      "cell_type": "code",
      "source": [
        "#  13. Create a class Rectangle with methods set_dimensions() to set the dimensions and area() to calculate the area\n",
        "class Rectangle:\n",
        "    def __init__(self):\n",
        "        self.width = 0\n",
        "        self.height = 0\n",
        "\n",
        "    def set_dimensions(self, width, height):\n",
        "        self.width = width\n",
        "        self.height = height\n",
        "\n",
        "    def area(self):\n",
        "        return self.width * self.height\n",
        "\n",
        "rect = Rectangle()\n",
        "rect.set_dimensions(5, 10)\n",
        "print(f\"The area of the rectangle is: {rect.area()}\")\n"
      ],
      "metadata": {
        "colab": {
          "base_uri": "https://localhost:8080/"
        },
        "id": "1ABriHSZIwpJ",
        "outputId": "bc160658-da7a-4e79-9604-558cc615bc78"
      },
      "execution_count": 21,
      "outputs": [
        {
          "output_type": "stream",
          "name": "stdout",
          "text": [
            "The area of the rectangle is: 50\n"
          ]
        }
      ]
    },
    {
      "cell_type": "code",
      "source": [
        "# 14. Create a class Employee with a method calculate_salary() that computes the salary based on hours worked and hourly rate. Create a derived class Manager that adds a bonus to the salary.\n",
        "\n",
        "# Base class\n",
        "class Employee:\n",
        "    def __init__(self, name, hours_worked, hourly_rate):\n",
        "        self.name = name\n",
        "        self.hours_worked = hours_worked\n",
        "        self.hourly_rate = hourly_rate\n",
        "\n",
        "    def calculate_salary(self):\n",
        "        return self.hours_worked * self.hourly_rate\n",
        "\n",
        "# Derived class\n",
        "class Manager(Employee):\n",
        "    def __init__(self, name, hours_worked, hourly_rate, bonus):\n",
        "        super().__init__(name, hours_worked, hourly_rate)\n",
        "        self.bonus = bonus\n",
        "\n",
        "    def calculate_salary(self):\n",
        "        base_salary = super().calculate_salary()\n",
        "        return base_salary + self.bonus\n",
        "\n",
        "emp = Employee(\"Alice\", 40, 20)\n",
        "print(f\"{emp.name}'s salary: ${emp.calculate_salary()}\")\n",
        "\n",
        "mgr = Manager(\"Bob\", 40, 30, 500)\n",
        "print(f\"{mgr.name}'s salary (with bonus): ${mgr.calculate_salary()}\")\n"
      ],
      "metadata": {
        "colab": {
          "base_uri": "https://localhost:8080/"
        },
        "id": "EZLeIvUsIwsl",
        "outputId": "b98708e6-b7ee-4ac6-a1ee-c65e0e5cd3eb"
      },
      "execution_count": 22,
      "outputs": [
        {
          "output_type": "stream",
          "name": "stdout",
          "text": [
            "Alice's salary: $800\n",
            "Bob's salary (with bonus): $1700\n"
          ]
        }
      ]
    },
    {
      "cell_type": "code",
      "source": [
        "# 15. Create a class Product with attributes name, price, and quantity. Implement a method total_price() that calculates the total price of the product.\n",
        "class Product:\n",
        "    def __init__(self, name, price, quantity):\n",
        "        self.name = name\n",
        "        self.price = price\n",
        "        self.quantity = quantity\n",
        "\n",
        "    def total_price(self):\n",
        "        return self.price * self.quantity\n",
        "\n",
        "# Example usage\n",
        "product1 = Product(\"Laptop\", 1000, 3)\n",
        "print(f\"Total price for {product1.name}s: ${product1.total_price()}\")\n",
        "\n"
      ],
      "metadata": {
        "colab": {
          "base_uri": "https://localhost:8080/"
        },
        "id": "KC6pDwU2K5zi",
        "outputId": "66ffe641-5dab-4eca-a9a4-df45ad5d994c"
      },
      "execution_count": 24,
      "outputs": [
        {
          "output_type": "stream",
          "name": "stdout",
          "text": [
            "Total price for Laptops: $3000\n"
          ]
        }
      ]
    },
    {
      "cell_type": "code",
      "source": [
        "#  16. Create a class Animal with an abstract method sound(). Create two derived classes Cow and Sheep that implement the sound() method.\n",
        "\n",
        "from abc import ABC, abstractmethod\n",
        "\n",
        "# Abstract base class\n",
        "class Animal(ABC):\n",
        "    @abstractmethod\n",
        "    def sound(self):\n",
        "        pass\n",
        "\n",
        "# Derived class Cow\n",
        "class Cow(Animal):\n",
        "    def sound(self):\n",
        "        return \"Moo\"\n",
        "\n",
        "# Derived class Sheep\n",
        "class Sheep(Animal):\n",
        "    def sound(self):\n",
        "        return \"Baa\"\n",
        "\n",
        "# Example usage\n",
        "cow = Cow()\n",
        "sheep = Sheep()\n",
        "\n",
        "print(f\"Cow says: {cow.sound()}\")\n",
        "print(f\"Sheep says: {sheep.sound()}\")\n"
      ],
      "metadata": {
        "colab": {
          "base_uri": "https://localhost:8080/"
        },
        "id": "f6_yblf3K6Kl",
        "outputId": "d9bb9c8b-243b-4a05-fd7c-2a2dfa257998"
      },
      "execution_count": 25,
      "outputs": [
        {
          "output_type": "stream",
          "name": "stdout",
          "text": [
            "Cow says: Moo\n",
            "Sheep says: Baa\n"
          ]
        }
      ]
    },
    {
      "cell_type": "code",
      "source": [
        "#  17. Create a class Book with attributes title, author, and year_published. Add a method get_book_info() that returns a formatted string with the book's details.\n",
        "class Book:\n",
        "    def __init__(self, title, author, year_published):\n",
        "        self.title = title\n",
        "        self.author = author\n",
        "        self.year_published = year_published\n",
        "\n",
        "    def get_book_info(self):\n",
        "        return f\"'{self.title}' by {self.author}, published in {self.year_published}\"\n",
        "\n",
        "# Example usage\n",
        "book1 = Book(\"1984\", \"George Orwell\", 1949)\n",
        "print(book1.get_book_info())\n",
        "\n"
      ],
      "metadata": {
        "colab": {
          "base_uri": "https://localhost:8080/"
        },
        "id": "7xQ5YgvqK6Y9",
        "outputId": "2bd8d9c8-c442-4e93-bce3-0af52bfd72bd"
      },
      "execution_count": 27,
      "outputs": [
        {
          "output_type": "stream",
          "name": "stdout",
          "text": [
            "'1984' by George Orwell, published in 1949\n"
          ]
        }
      ]
    },
    {
      "cell_type": "code",
      "source": [
        "#  18. Create a class House with attributes address and price. Create a derived class Mansion that adds an attribute number_of_rooms.\n",
        "class House:\n",
        "    def __init__(self, address, price):\n",
        "        self.address = address\n",
        "        self.price = price\n",
        "\n",
        "class Mansion(House):\n",
        "    def __init__(self, address, price, number_of_rooms):\n",
        "        super().__init__(address, price)\n",
        "        self.number_of_rooms = number_of_rooms\n",
        "\n",
        "# Example usage\n",
        "house = House(\"123 Main St\", 250000)\n",
        "mansion = Mansion(\"456 Grand Ave\", 2000000, 10)\n",
        "\n",
        "print(f\"House at {house.address} costs ${house.price}\")\n",
        "print(f\"Mansion at {mansion.address} costs ${mansion.price} and has {mansion.number_of_rooms} rooms\")\n",
        "\n"
      ],
      "metadata": {
        "colab": {
          "base_uri": "https://localhost:8080/"
        },
        "id": "l2IcyXduK6m0",
        "outputId": "e74308e8-04fe-491b-be9e-6db8e92b644c"
      },
      "execution_count": 28,
      "outputs": [
        {
          "output_type": "stream",
          "name": "stdout",
          "text": [
            "House at 123 Main St costs $250000\n",
            "Mansion at 456 Grand Ave costs $2000000 and has 10 rooms\n"
          ]
        }
      ]
    }
  ]
}